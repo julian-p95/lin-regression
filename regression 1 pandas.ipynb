{
 "cells": [
  {
   "cell_type": "code",
   "execution_count": 1,
   "id": "6490a866",
   "metadata": {},
   "outputs": [
    {
     "data": {
      "text/html": [
       "<div>\n",
       "<style scoped>\n",
       "    .dataframe tbody tr th:only-of-type {\n",
       "        vertical-align: middle;\n",
       "    }\n",
       "\n",
       "    .dataframe tbody tr th {\n",
       "        vertical-align: top;\n",
       "    }\n",
       "\n",
       "    .dataframe thead th {\n",
       "        text-align: right;\n",
       "    }\n",
       "</style>\n",
       "<table border=\"1\" class=\"dataframe\">\n",
       "  <thead>\n",
       "    <tr style=\"text-align: right;\">\n",
       "      <th></th>\n",
       "      <th>Prix</th>\n",
       "      <th>Ventes</th>\n",
       "    </tr>\n",
       "  </thead>\n",
       "  <tbody>\n",
       "    <tr>\n",
       "      <th>0</th>\n",
       "      <td>3.4</td>\n",
       "      <td>8.3</td>\n",
       "    </tr>\n",
       "    <tr>\n",
       "      <th>1</th>\n",
       "      <td>3.6</td>\n",
       "      <td>8.1</td>\n",
       "    </tr>\n",
       "    <tr>\n",
       "      <th>2</th>\n",
       "      <td>4.0</td>\n",
       "      <td>7.0</td>\n",
       "    </tr>\n",
       "    <tr>\n",
       "      <th>3</th>\n",
       "      <td>5.0</td>\n",
       "      <td>5.5</td>\n",
       "    </tr>\n",
       "    <tr>\n",
       "      <th>4</th>\n",
       "      <td>6.3</td>\n",
       "      <td>5.2</td>\n",
       "    </tr>\n",
       "    <tr>\n",
       "      <th>5</th>\n",
       "      <td>6.7</td>\n",
       "      <td>4.8</td>\n",
       "    </tr>\n",
       "    <tr>\n",
       "      <th>6</th>\n",
       "      <td>7.0</td>\n",
       "      <td>4.5</td>\n",
       "    </tr>\n",
       "    <tr>\n",
       "      <th>7</th>\n",
       "      <td>8.0</td>\n",
       "      <td>4.0</td>\n",
       "    </tr>\n",
       "  </tbody>\n",
       "</table>\n",
       "</div>"
      ],
      "text/plain": [
       "   Prix  Ventes\n",
       "0   3.4     8.3\n",
       "1   3.6     8.1\n",
       "2   4.0     7.0\n",
       "3   5.0     5.5\n",
       "4   6.3     5.2\n",
       "5   6.7     4.8\n",
       "6   7.0     4.5\n",
       "7   8.0     4.0"
      ]
     },
     "execution_count": 1,
     "metadata": {},
     "output_type": "execute_result"
    }
   ],
   "source": [
    "import pandas as pa  \n",
    "T = pa.DataFrame()  \n",
    "T['Prix'] = [3.4, 3.6, 4, 5, 6.3, 6.7, 7, 8]\n",
    "T['Ventes'] = [8.3, 8.1, 7, 5.5, 5.2, 4.8, 4.5, 4]\n",
    "\n",
    "T"
   ]
  },
  {
   "cell_type": "code",
   "execution_count": 2,
   "id": "3080d0ba",
   "metadata": {},
   "outputs": [
    {
     "data": {
      "text/plain": [
       "Prix      5.500\n",
       "Ventes    5.925\n",
       "dtype: float64"
      ]
     },
     "execution_count": 2,
     "metadata": {},
     "output_type": "execute_result"
    }
   ],
   "source": [
    "T.mean()"
   ]
  },
  {
   "cell_type": "code",
   "execution_count": 3,
   "id": "62c1ba60",
   "metadata": {},
   "outputs": [],
   "source": [
    "def moy(L):\n",
    "    m=0\n",
    "    for x in L:\n",
    "        m = m + x\n",
    "    return m / len(L)"
   ]
  },
  {
   "cell_type": "code",
   "execution_count": 4,
   "id": "fb3c92d2",
   "metadata": {},
   "outputs": [
    {
     "data": {
      "text/plain": [
       "(5.5, 5.925)"
      ]
     },
     "execution_count": 4,
     "metadata": {},
     "output_type": "execute_result"
    }
   ],
   "source": [
    "moy(T['Prix']), moy(T['Ventes'])"
   ]
  },
  {
   "cell_type": "code",
   "execution_count": 5,
   "id": "ac653788",
   "metadata": {},
   "outputs": [
    {
     "data": {
      "text/plain": [
       "Prix      2.637500\n",
       "Ventes    2.404375\n",
       "dtype: float64"
      ]
     },
     "execution_count": 5,
     "metadata": {},
     "output_type": "execute_result"
    }
   ],
   "source": [
    "T.var(ddof=0)"
   ]
  },
  {
   "cell_type": "code",
   "execution_count": 7,
   "id": "80e05050",
   "metadata": {},
   "outputs": [],
   "source": [
    "def Var(L):\n",
    "    return moy([(x - moy(L))**2 for x in L])\n",
    "                "
   ]
  },
  {
   "cell_type": "code",
   "execution_count": 12,
   "id": "684bd082",
   "metadata": {},
   "outputs": [
    {
     "data": {
      "text/plain": [
       "(2.6375, 2.404375)"
      ]
     },
     "execution_count": 12,
     "metadata": {},
     "output_type": "execute_result"
    }
   ],
   "source": [
    "Var(T['Prix']), Var(T['Ventes'])"
   ]
  },
  {
   "cell_type": "markdown",
   "id": "9754f234",
   "metadata": {},
   "source": [
    "# écart"
   ]
  },
  {
   "cell_type": "code",
   "execution_count": 13,
   "id": "a567fe17",
   "metadata": {},
   "outputs": [
    {
     "data": {
      "text/plain": [
       "Prix      1.624038\n",
       "Ventes    1.550605\n",
       "dtype: float64"
      ]
     },
     "execution_count": 13,
     "metadata": {},
     "output_type": "execute_result"
    }
   ],
   "source": [
    "T.std(ddof = 0)"
   ]
  },
  {
   "cell_type": "code",
   "execution_count": 14,
   "id": "797b71dd",
   "metadata": {},
   "outputs": [],
   "source": [
    "def sigma(L):\n",
    "    return Var(L)**0.5"
   ]
  },
  {
   "cell_type": "code",
   "execution_count": 21,
   "id": "89adf886",
   "metadata": {},
   "outputs": [
    {
     "data": {
      "text/html": [
       "<div>\n",
       "<style scoped>\n",
       "    .dataframe tbody tr th:only-of-type {\n",
       "        vertical-align: middle;\n",
       "    }\n",
       "\n",
       "    .dataframe tbody tr th {\n",
       "        vertical-align: top;\n",
       "    }\n",
       "\n",
       "    .dataframe thead th {\n",
       "        text-align: right;\n",
       "    }\n",
       "</style>\n",
       "<table border=\"1\" class=\"dataframe\">\n",
       "  <thead>\n",
       "    <tr style=\"text-align: right;\">\n",
       "      <th></th>\n",
       "      <th>Date</th>\n",
       "      <th>Carrefour</th>\n",
       "      <th>Renault</th>\n",
       "    </tr>\n",
       "  </thead>\n",
       "  <tbody>\n",
       "    <tr>\n",
       "      <th>0</th>\n",
       "      <td>2020-06-19</td>\n",
       "      <td>0.0126</td>\n",
       "      <td>-0.0158</td>\n",
       "    </tr>\n",
       "    <tr>\n",
       "      <th>1</th>\n",
       "      <td>2020-06-22</td>\n",
       "      <td>0.0298</td>\n",
       "      <td>-0.0052</td>\n",
       "    </tr>\n",
       "    <tr>\n",
       "      <th>2</th>\n",
       "      <td>2020-06-23</td>\n",
       "      <td>0.0203</td>\n",
       "      <td>0.0640</td>\n",
       "    </tr>\n",
       "    <tr>\n",
       "      <th>3</th>\n",
       "      <td>2020-06-24</td>\n",
       "      <td>-0.0344</td>\n",
       "      <td>-0.0648</td>\n",
       "    </tr>\n",
       "    <tr>\n",
       "      <th>4</th>\n",
       "      <td>2020-06-25</td>\n",
       "      <td>-0.0024</td>\n",
       "      <td>0.0227</td>\n",
       "    </tr>\n",
       "  </tbody>\n",
       "</table>\n",
       "</div>"
      ],
      "text/plain": [
       "         Date  Carrefour  Renault\n",
       "0  2020-06-19     0.0126  -0.0158\n",
       "1  2020-06-22     0.0298  -0.0052\n",
       "2  2020-06-23     0.0203   0.0640\n",
       "3  2020-06-24    -0.0344  -0.0648\n",
       "4  2020-06-25    -0.0024   0.0227"
      ]
     },
     "execution_count": 21,
     "metadata": {},
     "output_type": "execute_result"
    }
   ],
   "source": [
    "T=pd.read_csv(r'C:\\Users\\julia\\Documents\\python36\\datasource\\data\\actions.csv')\n",
    "T.head()"
   ]
  },
  {
   "cell_type": "code",
   "execution_count": 24,
   "id": "8edb743e",
   "metadata": {},
   "outputs": [
    {
     "data": {
      "text/plain": [
       "<matplotlib.lines.Line2D at 0x2193f576220>"
      ]
     },
     "execution_count": 24,
     "metadata": {},
     "output_type": "execute_result"
    },
    {
     "data": {
      "image/png": "[encoded data removed]",
      "text/plain": [
       "<Figure size 640x480 with 1 Axes>"
      ]
     },
     "metadata": {},
     "output_type": "display_data"
    }
   ],
   "source": [
    "import pylab as pl\n",
    "\n",
    "mx = T['Carrefour'].mean()\n",
    "my = T['Renault'].mean()\n",
    "\n",
    "# Create scatter plot\n",
    "T.plot.scatter(x = 'Carrefour', y='Renault')\n",
    "\n",
    "\n",
    "# Plot mean point G\n",
    "pl.plot(mx, my, 'o',color='blue')\n",
    "pl.text(mx, my, 'G', color='red')\n",
    "\n",
    "# Add x and y axis to the plot\n",
    "pl.axhline(y=0, color='gray')\n",
    "pl.axvline(x=0, color='gray')\n"
   ]
  },
  {
   "cell_type": "markdown",
   "id": "8fb9e931",
   "metadata": {},
   "source": [
    "# écart moyenne"
   ]
  },
  {
   "cell_type": "code",
   "execution_count": 26,
   "id": "266feb1f",
   "metadata": {},
   "outputs": [
    {
     "data": {
      "text/html": [
       "<div>\n",
       "<style scoped>\n",
       "    .dataframe tbody tr th:only-of-type {\n",
       "        vertical-align: middle;\n",
       "    }\n",
       "\n",
       "    .dataframe tbody tr th {\n",
       "        vertical-align: top;\n",
       "    }\n",
       "\n",
       "    .dataframe thead th {\n",
       "        text-align: right;\n",
       "    }\n",
       "</style>\n",
       "<table border=\"1\" class=\"dataframe\">\n",
       "  <thead>\n",
       "    <tr style=\"text-align: right;\">\n",
       "      <th></th>\n",
       "      <th>Date</th>\n",
       "      <th>Carrefour</th>\n",
       "      <th>Renault</th>\n",
       "      <th>RX</th>\n",
       "      <th>RY</th>\n",
       "    </tr>\n",
       "  </thead>\n",
       "  <tbody>\n",
       "    <tr>\n",
       "      <th>0</th>\n",
       "      <td>2020-06-19</td>\n",
       "      <td>0.0126</td>\n",
       "      <td>-0.0158</td>\n",
       "      <td>0.013962</td>\n",
       "      <td>-0.0229</td>\n",
       "    </tr>\n",
       "    <tr>\n",
       "      <th>1</th>\n",
       "      <td>2020-06-22</td>\n",
       "      <td>0.0298</td>\n",
       "      <td>-0.0052</td>\n",
       "      <td>0.031162</td>\n",
       "      <td>-0.0123</td>\n",
       "    </tr>\n",
       "    <tr>\n",
       "      <th>2</th>\n",
       "      <td>2020-06-23</td>\n",
       "      <td>0.0203</td>\n",
       "      <td>0.0640</td>\n",
       "      <td>0.021662</td>\n",
       "      <td>0.0569</td>\n",
       "    </tr>\n",
       "    <tr>\n",
       "      <th>3</th>\n",
       "      <td>2020-06-24</td>\n",
       "      <td>-0.0344</td>\n",
       "      <td>-0.0648</td>\n",
       "      <td>-0.033037</td>\n",
       "      <td>-0.0719</td>\n",
       "    </tr>\n",
       "    <tr>\n",
       "      <th>4</th>\n",
       "      <td>2020-06-25</td>\n",
       "      <td>-0.0024</td>\n",
       "      <td>0.0227</td>\n",
       "      <td>-0.001037</td>\n",
       "      <td>0.0156</td>\n",
       "    </tr>\n",
       "    <tr>\n",
       "      <th>5</th>\n",
       "      <td>2020-06-26</td>\n",
       "      <td>-0.0231</td>\n",
       "      <td>-0.0199</td>\n",
       "      <td>-0.021737</td>\n",
       "      <td>-0.0270</td>\n",
       "    </tr>\n",
       "    <tr>\n",
       "      <th>6</th>\n",
       "      <td>2020-06-29</td>\n",
       "      <td>-0.0036</td>\n",
       "      <td>0.0525</td>\n",
       "      <td>-0.002237</td>\n",
       "      <td>0.0454</td>\n",
       "    </tr>\n",
       "    <tr>\n",
       "      <th>7</th>\n",
       "      <td>2020-06-30</td>\n",
       "      <td>-0.0101</td>\n",
       "      <td>0.0233</td>\n",
       "      <td>-0.008737</td>\n",
       "      <td>0.0162</td>\n",
       "    </tr>\n",
       "  </tbody>\n",
       "</table>\n",
       "</div>"
      ],
      "text/plain": [
       "         Date  Carrefour  Renault        RX      RY\n",
       "0  2020-06-19     0.0126  -0.0158  0.013962 -0.0229\n",
       "1  2020-06-22     0.0298  -0.0052  0.031162 -0.0123\n",
       "2  2020-06-23     0.0203   0.0640  0.021662  0.0569\n",
       "3  2020-06-24    -0.0344  -0.0648 -0.033037 -0.0719\n",
       "4  2020-06-25    -0.0024   0.0227 -0.001037  0.0156\n",
       "5  2020-06-26    -0.0231  -0.0199 -0.021737 -0.0270\n",
       "6  2020-06-29    -0.0036   0.0525 -0.002237  0.0454\n",
       "7  2020-06-30    -0.0101   0.0233 -0.008737  0.0162"
      ]
     },
     "execution_count": 26,
     "metadata": {},
     "output_type": "execute_result"
    }
   ],
   "source": [
    "T['RX']= T['Carrefour'] - mx\n",
    "T['RY']= T['Renault'] - my\n",
    "T"
   ]
  },
  {
   "cell_type": "code",
   "execution_count": 27,
   "id": "04d6a14e",
   "metadata": {},
   "outputs": [
    {
     "data": {
      "text/html": [
       "<div>\n",
       "<style scoped>\n",
       "    .dataframe tbody tr th:only-of-type {\n",
       "        vertical-align: middle;\n",
       "    }\n",
       "\n",
       "    .dataframe tbody tr th {\n",
       "        vertical-align: top;\n",
       "    }\n",
       "\n",
       "    .dataframe thead th {\n",
       "        text-align: right;\n",
       "    }\n",
       "</style>\n",
       "<table border=\"1\" class=\"dataframe\">\n",
       "  <thead>\n",
       "    <tr style=\"text-align: right;\">\n",
       "      <th></th>\n",
       "      <th>Date</th>\n",
       "      <th>Carrefour</th>\n",
       "      <th>Renault</th>\n",
       "      <th>RX</th>\n",
       "      <th>RY</th>\n",
       "      <th>RX*RY</th>\n",
       "    </tr>\n",
       "  </thead>\n",
       "  <tbody>\n",
       "    <tr>\n",
       "      <th>0</th>\n",
       "      <td>2020-06-19</td>\n",
       "      <td>0.0126</td>\n",
       "      <td>-0.0158</td>\n",
       "      <td>0.013962</td>\n",
       "      <td>-0.0229</td>\n",
       "      <td>-0.000320</td>\n",
       "    </tr>\n",
       "    <tr>\n",
       "      <th>1</th>\n",
       "      <td>2020-06-22</td>\n",
       "      <td>0.0298</td>\n",
       "      <td>-0.0052</td>\n",
       "      <td>0.031162</td>\n",
       "      <td>-0.0123</td>\n",
       "      <td>-0.000383</td>\n",
       "    </tr>\n",
       "    <tr>\n",
       "      <th>2</th>\n",
       "      <td>2020-06-23</td>\n",
       "      <td>0.0203</td>\n",
       "      <td>0.0640</td>\n",
       "      <td>0.021662</td>\n",
       "      <td>0.0569</td>\n",
       "      <td>0.001233</td>\n",
       "    </tr>\n",
       "    <tr>\n",
       "      <th>3</th>\n",
       "      <td>2020-06-24</td>\n",
       "      <td>-0.0344</td>\n",
       "      <td>-0.0648</td>\n",
       "      <td>-0.033037</td>\n",
       "      <td>-0.0719</td>\n",
       "      <td>0.002375</td>\n",
       "    </tr>\n",
       "    <tr>\n",
       "      <th>4</th>\n",
       "      <td>2020-06-25</td>\n",
       "      <td>-0.0024</td>\n",
       "      <td>0.0227</td>\n",
       "      <td>-0.001037</td>\n",
       "      <td>0.0156</td>\n",
       "      <td>-0.000016</td>\n",
       "    </tr>\n",
       "    <tr>\n",
       "      <th>5</th>\n",
       "      <td>2020-06-26</td>\n",
       "      <td>-0.0231</td>\n",
       "      <td>-0.0199</td>\n",
       "      <td>-0.021737</td>\n",
       "      <td>-0.0270</td>\n",
       "      <td>0.000587</td>\n",
       "    </tr>\n",
       "    <tr>\n",
       "      <th>6</th>\n",
       "      <td>2020-06-29</td>\n",
       "      <td>-0.0036</td>\n",
       "      <td>0.0525</td>\n",
       "      <td>-0.002237</td>\n",
       "      <td>0.0454</td>\n",
       "      <td>-0.000102</td>\n",
       "    </tr>\n",
       "    <tr>\n",
       "      <th>7</th>\n",
       "      <td>2020-06-30</td>\n",
       "      <td>-0.0101</td>\n",
       "      <td>0.0233</td>\n",
       "      <td>-0.008737</td>\n",
       "      <td>0.0162</td>\n",
       "      <td>-0.000142</td>\n",
       "    </tr>\n",
       "  </tbody>\n",
       "</table>\n",
       "</div>"
      ],
      "text/plain": [
       "         Date  Carrefour  Renault        RX      RY     RX*RY\n",
       "0  2020-06-19     0.0126  -0.0158  0.013962 -0.0229 -0.000320\n",
       "1  2020-06-22     0.0298  -0.0052  0.031162 -0.0123 -0.000383\n",
       "2  2020-06-23     0.0203   0.0640  0.021662  0.0569  0.001233\n",
       "3  2020-06-24    -0.0344  -0.0648 -0.033037 -0.0719  0.002375\n",
       "4  2020-06-25    -0.0024   0.0227 -0.001037  0.0156 -0.000016\n",
       "5  2020-06-26    -0.0231  -0.0199 -0.021737 -0.0270  0.000587\n",
       "6  2020-06-29    -0.0036   0.0525 -0.002237  0.0454 -0.000102\n",
       "7  2020-06-30    -0.0101   0.0233 -0.008737  0.0162 -0.000142"
      ]
     },
     "execution_count": 27,
     "metadata": {},
     "output_type": "execute_result"
    }
   ],
   "source": [
    "T['RX*RY']= T['RX'] * T['RY']\n",
    "\n",
    "T"
   ]
  },
  {
   "cell_type": "markdown",
   "id": "b496d2cc",
   "metadata": {},
   "source": [
    "# covariance"
   ]
  },
  {
   "cell_type": "code",
   "execution_count": 28,
   "id": "c13b7fce",
   "metadata": {},
   "outputs": [
    {
     "data": {
      "text/plain": [
       "0.0004040687499999999"
      ]
     },
     "execution_count": 28,
     "metadata": {},
     "output_type": "execute_result"
    }
   ],
   "source": [
    "T['RX*RY'].mean()"
   ]
  },
  {
   "cell_type": "code",
   "execution_count": 33,
   "id": "4f43803d",
   "metadata": {},
   "outputs": [],
   "source": [
    "def cov(X,Y):\n",
    "    mX = moy(X)\n",
    "    mY = moy(Y)\n",
    "    s=0\n",
    "    for k in range(len(X)):\n",
    "        s = s + (X[k] - mX) * (Y[k] - mY)\n",
    "    return s / len(X)\n"
   ]
  },
  {
   "cell_type": "code",
   "execution_count": null,
   "id": "8aad3a51",
   "metadata": {},
   "outputs": [],
   "source": []
  }
 ],
 "metadata": {
  "kernelspec": {
   "display_name": "Python 3 (ipykernel)",
   "language": "python",
   "name": "python3"
  },
  "language_info": {
   "codemirror_mode": {
    "name": "ipython",
    "version": 3
   },
   "file_extension": ".py",
   "mimetype": "text/x-python",
   "name": "python",
   "nbconvert_exporter": "python",
   "pygments_lexer": "ipython3",
   "version": "3.9.16"
  }
 },
 "nbformat": 4,
 "nbformat_minor": 5
}
